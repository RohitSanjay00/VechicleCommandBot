{
 "cells": [
  {
   "cell_type": "code",
   "execution_count": 3,
   "metadata": {},
   "outputs": [
    {
     "name": "stdout",
     "output_type": "stream",
     "text": [
      "Values updated successfully!\n",
      "Current values: {'doors_locked': 'Unlocked', 'engine_status': 'Off', 'gas': '100%', 'range_value': '350 Miles', 'system_status': 'Functional', 'windows_status': 'Closed'}\n"
     ]
    }
   ],
   "source": [
    "import requests\n",
    "\n",
    "url = 'http://127.0.0.1:5000/'  # Replace with your Flask app's URL\n",
    "\n",
    "# Send a POST request to update values\n",
    "update_data = {\n",
    "    'doors_locked': 'Unlocked',\n",
    "    'windows_status': 'Closed',\n",
    "    'engine_status': 'Off',\n",
    "    'range_value': '350 Miles',\n",
    "    'gas': '100%',\n",
    "    'system_status': 'Functional'\n",
    "}\n",
    "response = requests.post(url, json=update_data)\n",
    "print(response.text)\n",
    "\n",
    "# Send a GET request to get current values\n",
    "response = requests.get(url, headers={'Content-Type': 'application/json'})\n",
    "data = response.json()\n",
    "print(\"Current values:\", data)\n"
   ]
  },
  {
   "cell_type": "code",
   "execution_count": null,
   "metadata": {},
   "outputs": [],
   "source": []
  },
  {
   "cell_type": "code",
   "execution_count": null,
   "metadata": {},
   "outputs": [],
   "source": []
  }
 ],
 "metadata": {
  "kernelspec": {
   "display_name": "Python 3",
   "language": "python",
   "name": "python3"
  },
  "language_info": {
   "codemirror_mode": {
    "name": "ipython",
    "version": 3
   },
   "file_extension": ".py",
   "mimetype": "text/x-python",
   "name": "python",
   "nbconvert_exporter": "python",
   "pygments_lexer": "ipython3",
   "version": "3.11.2"
  },
  "orig_nbformat": 4
 },
 "nbformat": 4,
 "nbformat_minor": 2
}
