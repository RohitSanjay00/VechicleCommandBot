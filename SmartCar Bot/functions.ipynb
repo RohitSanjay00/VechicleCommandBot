{
 "cells": [
  {
   "cell_type": "code",
   "execution_count": 3,
   "metadata": {},
   "outputs": [],
   "source": [
    "import requests"
   ]
  },
  {
   "cell_type": "code",
   "execution_count": 10,
   "metadata": {},
   "outputs": [],
   "source": [
    "def Lock_Doors():\n",
    "    url = 'http://127.0.0.1:5000/'\n",
    "    response = requests.get(url, headers={'Content-Type': 'application/json'})\n",
    "    data = response.json()\n",
    "    data['doors_locked'] = 'Locked'\n",
    "    response = requests.post(url, json=data)\n",
    "    print(response.text)\n"
   ]
  },
  {
   "cell_type": "code",
   "execution_count": 12,
   "metadata": {},
   "outputs": [],
   "source": [
    "def Unlock_Doors():\n",
    "    url = 'http://127.0.0.1:5000/'\n",
    "    response = requests.get(url, headers={'Content-Type': 'application/json'})\n",
    "    data = response.json()\n",
    "    data['doors_locked'] = 'Unlocked'\n",
    "    response = requests.post(url, json=data)\n",
    "    print(response.text)\n"
   ]
  },
  {
   "cell_type": "code",
   "execution_count": 16,
   "metadata": {},
   "outputs": [],
   "source": [
    "def Check_windows():\n",
    "    url = 'http://127.0.0.1:5000/'\n",
    "    response = requests.get(url, headers={'Content-Type': 'application/json'})\n",
    "    data = response.json()\n",
    "    status = data['windows_status'] \n",
    "    print(status)\n"
   ]
  },
  {
   "cell_type": "code",
   "execution_count": 18,
   "metadata": {},
   "outputs": [],
   "source": [
    "def Check_Doors():\n",
    "    url = 'http://127.0.0.1:5000/'\n",
    "    response = requests.get(url, headers={'Content-Type': 'application/json'})\n",
    "    data = response.json()\n",
    "    status = data['doors_locked'] \n",
    "    print(status)"
   ]
  },
  {
   "cell_type": "code",
   "execution_count": 20,
   "metadata": {},
   "outputs": [],
   "source": [
    "def Gas_Check():\n",
    "    url = 'http://127.0.0.1:5000/'\n",
    "    response = requests.get(url, headers={'Content-Type': 'application/json'})\n",
    "    data = response.json()\n",
    "    status = data['gas'] \n",
    "    print(status)"
   ]
  },
  {
   "cell_type": "code",
   "execution_count": 25,
   "metadata": {},
   "outputs": [],
   "source": [
    "def engine_start():\n",
    "    url = 'http://127.0.0.1:5000/'\n",
    "    response = requests.get(url, headers={'Content-Type': 'application/json'})\n",
    "    data = response.json()\n",
    "    data['engine_status'] = 'On'\n",
    "    response = requests.post(url, json=data)\n",
    "    print(response.text)"
   ]
  },
  {
   "cell_type": "code",
   "execution_count": null,
   "metadata": {},
   "outputs": [],
   "source": [
    "## need to edit this and make it change range\n",
    "def Check_charge():\n",
    "    url = 'http://127.0.0.1:5000/'\n",
    "    response = requests.get(url, headers={'Content-Type': 'application/json'})\n",
    "    data = response.json()\n",
    "    data['engine_status'] = 'On'\n",
    "    response = requests.post(url, json=data)\n",
    "    print(response.text)"
   ]
  },
  {
   "cell_type": "code",
   "execution_count": 27,
   "metadata": {},
   "outputs": [],
   "source": [
    "def Engine_off():\n",
    "    url = 'http://127.0.0.1:5000/'\n",
    "    response = requests.get(url, headers={'Content-Type': 'application/json'})\n",
    "    data = response.json()\n",
    "    data['engine_status'] = 'Off'\n",
    "    response = requests.post(url, json=data)\n",
    "    print(response.text)"
   ]
  },
  {
   "cell_type": "code",
   "execution_count": 30,
   "metadata": {},
   "outputs": [],
   "source": [
    "def roll_windows():\n",
    "    url = 'http://127.0.0.1:5000/'\n",
    "    response = requests.get(url, headers={'Content-Type': 'application/json'})\n",
    "    data = response.json()\n",
    "    data['windows_status'] = 'Open'\n",
    "    response = requests.post(url, json=data)\n",
    "    print(response.text)"
   ]
  },
  {
   "cell_type": "code",
   "execution_count": 32,
   "metadata": {},
   "outputs": [],
   "source": [
    "def Check_vehicle_status():\n",
    "    url = 'http://127.0.0.1:5000/'\n",
    "    response = requests.get(url, headers={'Content-Type': 'application/json'})\n",
    "    data = response.json()\n",
    "    status = data['system_status'] \n",
    "    print(status)"
   ]
  },
  {
   "cell_type": "code",
   "execution_count": 1,
   "metadata": {},
   "outputs": [],
   "source": [
    "def Engine_On():\n",
    "        url = 'http://127.0.0.1:5000/'\n",
    "        response = requests.get(url, headers={'Content-Type': 'application/json'})\n",
    "        data = response.json()\n",
    "        data['engine_status'] = 'On'\n",
    "        response = requests.post(url, json=data)\n",
    "        print(response.text)"
   ]
  },
  {
   "cell_type": "code",
   "execution_count": 4,
   "metadata": {},
   "outputs": [
    {
     "name": "stdout",
     "output_type": "stream",
     "text": [
      "Values updated successfully!\n"
     ]
    }
   ],
   "source": [
    "Engine_On()"
   ]
  },
  {
   "cell_type": "code",
   "execution_count": 5,
   "metadata": {},
   "outputs": [],
   "source": [
    "def Unlock_Doors():\n",
    "        url = 'http://127.0.0.1:5000/'\n",
    "        response = requests.get(url, headers={'Content-Type': 'application/json'})\n",
    "        data = response.json()\n",
    "        data['doors_locked'] = 'Unlocked'\n",
    "        response = requests.post(url, json=data)\n",
    "        print(response.text)"
   ]
  },
  {
   "cell_type": "code",
   "execution_count": 6,
   "metadata": {},
   "outputs": [
    {
     "name": "stdout",
     "output_type": "stream",
     "text": [
      "Values updated successfully!\n"
     ]
    }
   ],
   "source": [
    "Unlock_Doors()"
   ]
  },
  {
   "cell_type": "code",
   "execution_count": null,
   "metadata": {},
   "outputs": [],
   "source": []
  }
 ],
 "metadata": {
  "kernelspec": {
   "display_name": "Python 3",
   "language": "python",
   "name": "python3"
  },
  "language_info": {
   "codemirror_mode": {
    "name": "ipython",
    "version": 3
   },
   "file_extension": ".py",
   "mimetype": "text/x-python",
   "name": "python",
   "nbconvert_exporter": "python",
   "pygments_lexer": "ipython3",
   "version": "3.11.2"
  },
  "orig_nbformat": 4
 },
 "nbformat": 4,
 "nbformat_minor": 2
}
